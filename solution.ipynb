{
 "cells": [
  {
   "cell_type": "markdown",
   "id": "e4651b25",
   "metadata": {},
   "source": [
    "# Python Boot Camp\n",
    "\n",
    "\n",
    "Welcome! 😃👋\n",
    "\n",
    "In this notebook, we will go through some basic image processing in Python, come across standard tasks required while setting up deep learning pipelines, and familiarize ourselves with popular packages such as `glob`, `tifffile`, `tqdm`, `albumenations` and more.\n",
    "We will learn about:\n",
    "- Loading images (This is important as images are the primary input to most deep learning models)\n",
    "- Normalizing images (This is important as it helps in faster convergence of models becuse it helps in reducing the scale of the input data and hence the scale of the gradients)\n",
    "- Cropping images (This is important as it helps in creating smaller images from the original images which is useful for training models in a memory efficient way)\n",
    "- Downsampling images (This is important as it helps in reducing the size of the images which is useful for training models in a memory efficient way)\n",
    "- Flipping images (This is important as it helps in creating new images from the original data which is useful for training models in a memory efficient way)\n",
    "- Batching images (As we train in a SGD manner, batching is important as it helps in training the model in a memory efficient way and smoothens the optimization process)\n",
    "- Convolutions (This is important as it is the primary operation in Convolutional Neural Networks)\n",
    "- Data Augmentation (This is important as it helps in artificially increasing the size of the training data which is useful for training models in a memory efficient way)\n",
    "\n",
    "\n",
    "We will be using sample images from the *MoNuSeg* dataset provided by [Kumar et al, 2018](https://ieeexplore.ieee.org/document/8880654). The data was publicly made available [here](https://monuseg.grand-challenge.org/) by the authors of the publication.\n",
    "\n",
    "This dataset shows Hematoxylin and Eosin (H&E) Stained Images showing nuclei in different shapes."
   ]
  },
  {
   "cell_type": "markdown",
   "id": "ec92198c",
   "metadata": {},
   "source": [
    "## Chapter 0: Downloading data from an external url"
   ]
  },
  {
   "cell_type": "markdown",
   "id": "bc4cd962",
   "metadata": {},
   "source": [
    "Let us first download the images from an external url.\n",
    "To do so, we need to import some commonly used dependencies."
   ]
  },
  {
   "cell_type": "code",
   "execution_count": null,
   "id": "99141df2",
   "metadata": {},
   "outputs": [],
   "source": [
    "from pathlib import Path\n",
    "import urllib.request, zipfile"
   ]
  },
  {
   "cell_type": "markdown",
   "id": "da969a53",
   "metadata": {
    "lines_to_next_cell": 2
   },
   "source": [
    "Here, below is a helper function to download the data from an external url specified by argument `zip_url` and save it to a local directory specified by argument `project_name`. Let's execute the function (No output expected yet!)."
   ]
  },
  {
   "cell_type": "code",
   "execution_count": null,
   "id": "47ee95a9",
   "metadata": {},
   "outputs": [],
   "source": [
    "def extract_data(zip_url, project_name):\n",
    "    zip_path = Path(project_name + \".zip\")\n",
    "    if zip_path.exists():\n",
    "        print(\"Zip file was downloaded and extracted before!\")\n",
    "    else:\n",
    "        urllib.request.urlretrieve(zip_url, zip_path)\n",
    "        print(\"Downloaded data as {}\".format(zip_path))\n",
    "    with zipfile.ZipFile(zip_path, \"r\") as zip_ref:\n",
    "        zip_ref.extractall(\"./\")\n",
    "    print(\"Unzipped data to {}\".format(Path(project_name)))"
   ]
  },
  {
   "cell_type": "markdown",
   "id": "65fe87db",
   "metadata": {},
   "source": [
    "Now we call the function `extract_data` specifying desirable values of the arguments."
   ]
  },
  {
   "cell_type": "code",
   "execution_count": null,
   "id": "23c9e8e8",
   "metadata": {},
   "outputs": [],
   "source": [
    "extract_data(\n",
    "    zip_url=\"https://owncloud.mpi-cbg.de/index.php/s/xwYonC9LucjLsY6/download\",\n",
    "    project_name=\"monuseg-2018\",\n",
    ")"
   ]
  },
  {
   "cell_type": "markdown",
   "id": "b95b88e3",
   "metadata": {},
   "source": [
    "### Task 0.1\n",
    "Click on the `Files` directory (left panel) and check if some images exist within the `monuseg-2018` directory."
   ]
  },
  {
   "cell_type": "markdown",
   "id": "74ef38e1",
   "metadata": {},
   "source": [
    "### Task 0.2\n",
    "Can you a bash command to programmatically count the number of images and masks present in the `download/images` directory.\n",
    "\n",
    "*Hint*: Use `!ls -l <path> | wc - l` (you can run any bash command in a jupyter notebook by prefixing it with `!`)"
   ]
  },
  {
   "cell_type": "code",
   "execution_count": null,
   "id": "cfdbd4f4",
   "metadata": {
    "lines_to_next_cell": 2,
    "tags": [
     "task"
    ]
   },
   "outputs": [],
   "source": [
    "##########################\n",
    "######## To Do ###########\n",
    "##########################"
   ]
  },
  {
   "cell_type": "code",
   "execution_count": null,
   "id": "e69e7210",
   "metadata": {
    "tags": [
     "solution"
    ]
   },
   "outputs": [],
   "source": [
    "##########################\n",
    "####### Solution #########\n",
    "##########################\n",
    "\n",
    "!ls -l monuseg-2018/download/images | wc -l"
   ]
  },
  {
   "cell_type": "markdown",
   "id": "683f013b",
   "metadata": {},
   "source": [
    "## Chapter 1"
   ]
  },
  {
   "cell_type": "markdown",
   "id": "a39ebe22",
   "metadata": {},
   "source": [
    "### Images as arrays <a class=\"anchor\" name=\"first\"></a>\n",
    "\n",
    "2D Images are often represented as numpy arrays of shape (`height`, `width`, `num_channels`).\n",
    "\n",
    "![RGB image as a np array](https://github.com/dlmbl/boot/assets/34229641/ce1ad3f3-dc34-46d1-b301-198768fbc369)\n",
    "\n",
    "<div style=\"text-align: right\"> Credit: <a href=\"https://e2eml.school/convert_rgb_to_grayscale.html\">Brandon Rohrer’s Blog</a></div>\n",
    "\n",
    "\n",
    "Multiple utilities/packages exist to read images from files in Python.\n",
    "For example, one can use `tifffile.imread` to read `*.tif` images. <br>Another good package is `skimage.io.imread`.\n",
    "\n",
    "\n",
    "If you look in the directory (`monuseg-2018/download`), you can see directories called `images` and `masks`.\n",
    "\n",
    "Let's load one image and visualize it using `matplotlib.pyplot.imshow`. <br>\n",
    "`matplotlib.pyplot.imshow` is the standard way to show images in jupyter notebooks!"
   ]
  },
  {
   "cell_type": "code",
   "execution_count": null,
   "id": "497aed61",
   "metadata": {
    "lines_to_next_cell": 2
   },
   "outputs": [],
   "source": [
    "from tifffile import imread\n",
    "import matplotlib.pyplot as plt\n",
    "\n",
    "img = imread(\"monuseg-2018/download/images/TCGA-2Z-A9J9-01A-01-TS1.tif\")\n",
    "print(f\"Image `img` has type {type(img)}\")  # variable type\n",
    "plt.imshow(img)"
   ]
  },
  {
   "cell_type": "markdown",
   "id": "8291770e",
   "metadata": {
    "cell_marker": "\"\"\""
   },
   "source": [
    "<div class=\"alert alert-info\">\n",
    "\n",
    "### Task 1.1\n",
    "Can you visualize the corresponding `mask` for the image above. <br>\n",
    "(*Hint*: Look for the same name within the `masks` directory.) <br>\n",
    "What does the mask show?"
   ]
  },
  {
   "cell_type": "code",
   "execution_count": null,
   "id": "25bf880a",
   "metadata": {
    "tags": [
     "task"
    ]
   },
   "outputs": [],
   "source": [
    "##########################\n",
    "######## To Do ###########\n",
    "##########################\n",
    "\n",
    "mask = ...  # TODO\n",
    "print(f\"Mask `mask` has type {type(mask)}\")  # variable type\n",
    "plt.imshow(mask)"
   ]
  },
  {
   "cell_type": "code",
   "execution_count": null,
   "id": "81f1b375",
   "metadata": {
    "tags": [
     "solution"
    ]
   },
   "outputs": [],
   "source": [
    "##########################\n",
    "####### Solution #########\n",
    "##########################\n",
    "\n",
    "mask = imread(\"monuseg-2018/download/masks/TCGA-2Z-A9J9-01A-01-TS1.tif\")\n",
    "print(f\"Mask `mask` has type {type(mask)}\")  # variable type\n",
    "plt.imshow(mask)"
   ]
  },
  {
   "cell_type": "markdown",
   "id": "08612c40",
   "metadata": {},
   "source": [
    "### Image channels\n",
    "If the image is a `grayscale` image, then the number of channels is equal to $1$,\n",
    "in which case the array can also be of shape (height, width). <br>\n",
    "If the image is `RGB`, then the number of channels is $3$.\n",
    "with each channel encoding the red, green and blue components."
   ]
  },
  {
   "cell_type": "markdown",
   "id": "cac7c934",
   "metadata": {
    "cell_marker": "\"\"\""
   },
   "source": [
    "<div class=\"alert alert-info\">\n",
    "\n",
    "### Task 1.2\n",
    "Is <code>img</code> RGB or grayscale ? What about the mask?\n",
    "\n",
    "*Hint*: <a href=\"https://assets.datacamp.com/blog_assets/Numpy_Python_Cheat_Sheet.pdf\">np cheatsheet</a>"
   ]
  },
  {
   "cell_type": "code",
   "execution_count": null,
   "id": "4078399f",
   "metadata": {
    "tags": [
     "task"
    ]
   },
   "outputs": [],
   "source": [
    "##########################\n",
    "######## To Do ###########\n",
    "##########################"
   ]
  },
  {
   "cell_type": "code",
   "execution_count": null,
   "id": "01418eb5",
   "metadata": {
    "lines_to_next_cell": 0,
    "tags": [
     "solution"
    ]
   },
   "outputs": [],
   "source": [
    "##########################\n",
    "######## Solution ###########\n",
    "##########################\n",
    "\n",
    "print(img.shape)\n",
    "print(mask.shape)"
   ]
  },
  {
   "cell_type": "markdown",
   "id": "0ef769b7",
   "metadata": {
    "tags": [
     "solution"
    ]
   },
   "source": [
    "```\n",
    "##########################\n",
    "####### Solution #########\n",
    "##########################\n",
    "```\n",
    "The shape of the np array can tell us if the image is RGB or grayscale.\n",
    "If the shape is (height, width, 3), then the image is RGB.\n",
    "If the shape is (height, width), then the image is grayscale. Therefore:\n",
    "- Mask = greyscale\n",
    "- Image = RGB"
   ]
  },
  {
   "cell_type": "markdown",
   "id": "6828423e",
   "metadata": {},
   "source": [
    "### Image data types\n",
    "\n",
    "\n",
    "Images can be represented by a variety of data types. The following is a list of the most common datatypes:\n",
    "- `bool`: binary, 0 or 1\n",
    "- `uint8`: unsigned integers, 0 to 255 range\n",
    "- `float`: -1 to 1 or 0 to 1"
   ]
  },
  {
   "cell_type": "markdown",
   "id": "907d043e",
   "metadata": {
    "cell_marker": "\"\"\""
   },
   "source": [
    "<div class=\"alert alert-info\">\n",
    "\n",
    "### Task 1.3\n",
    "What is the data type of <code>img</code> and the <code>mask</code> ? What are the minimum and maximum intensity values?\n",
    "\n",
    "*Hint*: <a href=\"https://assets.datacamp.com/blog_assets/Numpy_Python_Cheat_Sheet.pdf\">np cheatsheet</a></div>"
   ]
  },
  {
   "cell_type": "code",
   "execution_count": null,
   "id": "a5f09937",
   "metadata": {
    "tags": [
     "task"
    ]
   },
   "outputs": [],
   "source": [
    "##########################\n",
    "######## To Do ###########\n",
    "##########################"
   ]
  },
  {
   "cell_type": "code",
   "execution_count": null,
   "id": "7f01fd12",
   "metadata": {
    "tags": [
     "solution"
    ]
   },
   "outputs": [],
   "source": [
    "##########################\n",
    "####### Solution #########\n",
    "##########################\n",
    "\n",
    "print(\"data type: \", img.dtype, mask.dtype)\n",
    "print(\"Image min and max: \", img.min(), img.max())\n",
    "print(\"Mask min and max: \", mask.min(), mask.max())"
   ]
  },
  {
   "cell_type": "markdown",
   "id": "20a520aa",
   "metadata": {},
   "source": [
    "### Reshaping Images\n",
    "\n",
    "`PyTorch`, `TensorFlow` and `JAX` are popular deep learning frameworks.\n",
    "<br> In `PyTorch` images are represented as (`num_channels`, `height`, `width`).\n",
    "\n",
    "But the image which we are working with has the `channel` as the last axis.\n",
    "Therefore, we need to reshape (by swapping) the image to the correct shape."
   ]
  },
  {
   "cell_type": "markdown",
   "id": "d30787ac",
   "metadata": {
    "cell_marker": "\"\"\""
   },
   "source": [
    "<div class=\"alert alert-info\">\n",
    "\n",
    "### Task 1.4\n",
    "Reshape <code>img</code> such that its shape is <code>(num_channels, height, width)</code>\n",
    "\n",
    "*Hint*: <a href=\"https://numpy.org/doc/stable/reference/generated/numpy.transpose.html\">np transpose</a>"
   ]
  },
  {
   "cell_type": "code",
   "execution_count": null,
   "id": "fb9d516c",
   "metadata": {
    "tags": [
     "task"
    ]
   },
   "outputs": [],
   "source": [
    "##########################\n",
    "######## To Do ###########\n",
    "##########################\n",
    "\n",
    "import numpy as np\n",
    "\n",
    "print(f\"Before reshaping, image has shape {img.shape}\")\n",
    "img_reshaped = ...  ## TODO\n",
    "print(f\"After reshaping, image has shape {img_reshaped.shape}\")"
   ]
  },
  {
   "cell_type": "code",
   "execution_count": null,
   "id": "89a652ea",
   "metadata": {
    "tags": [
     "solution"
    ]
   },
   "outputs": [],
   "source": [
    "##########################\n",
    "####### Solution #########\n",
    "##########################\n",
    "\n",
    "import numpy as np\n",
    "\n",
    "print(f\"Before reshaping, image has shape {img.shape}\")\n",
    "img_reshaped = np.transpose(img, (2, 0, 1))\n",
    "print(f\"After reshaping, image has shape {img_reshaped.shape}\")"
   ]
  },
  {
   "cell_type": "markdown",
   "id": "0fe8fa3c",
   "metadata": {},
   "source": [
    "### Normalizing Images\n",
    "\n",
    "It often helps model training, if we provide image inputs to the model which are between [0,1] intensities. <br>\n",
    "This is because the gradients are more stable and the model converges faster. And the model is not biased towards any particular intensity values. <br>\n",
    "One way of normalizing an image is to divide the intensity on each pixel by the maximum allowed intensity for the available data type."
   ]
  },
  {
   "cell_type": "markdown",
   "id": "d7f4004b",
   "metadata": {
    "cell_marker": "\"\"\"",
    "lines_to_next_cell": 0
   },
   "source": [
    "<div class=\"alert alert-info\">\n",
    "\n",
    "### Task 1.5\n",
    "Obtain an intensity normalized image using the idea above."
   ]
  },
  {
   "cell_type": "code",
   "execution_count": null,
   "id": "530638f6",
   "metadata": {
    "tags": [
     "task"
    ]
   },
   "outputs": [],
   "source": [
    "##########################\n",
    "######## To Do ###########\n",
    "##########################\n",
    "\n",
    "def normalize(img):\n",
    "    norm_img = ...  # TODO\n",
    "    return norm_img"
   ]
  },
  {
   "cell_type": "code",
   "execution_count": null,
   "id": "ca3d9cb9",
   "metadata": {
    "tags": [
     "solution"
    ]
   },
   "outputs": [],
   "source": [
    "##########################\n",
    "####### Solution #########\n",
    "##########################\n",
    "\n",
    "def normalize(img):\n",
    "    norm_img = img / 255\n",
    "    return norm_img"
   ]
  },
  {
   "cell_type": "markdown",
   "id": "000dc1bf",
   "metadata": {
    "cell_marker": "\"\"\""
   },
   "source": [
    "<div class=\"alert alert-info\">\n",
    "\n",
    "### Task 1.6\n",
    "What is the data type of the normalized image. Has it changed from before? Why?"
   ]
  },
  {
   "cell_type": "code",
   "execution_count": null,
   "id": "bf89cff3",
   "metadata": {
    "tags": [
     "task"
    ]
   },
   "outputs": [],
   "source": [
    "##########################\n",
    "######## To Do ###########\n",
    "##########################"
   ]
  },
  {
   "cell_type": "code",
   "execution_count": null,
   "id": "0c4e3d05",
   "metadata": {
    "tags": [
     "solution"
    ]
   },
   "outputs": [],
   "source": [
    "##########################\n",
    "####### Solution #########\n",
    "##########################\n",
    "\n",
    "normalize(img).dtype"
   ]
  },
  {
   "cell_type": "markdown",
   "id": "54d2ecf7",
   "metadata": {},
   "source": [
    "### Loading a set of images\n",
    "\n",
    "Given a set of images in a folder, we need to be able to easily find the pathnames and load them in. <br>\n",
    "`glob` is a standard package that provides a utility for finding all pathnames that match a given pattern.\n",
    "\n",
    "Here, our images have the `.tif` extension."
   ]
  },
  {
   "cell_type": "code",
   "execution_count": null,
   "id": "95cc782c",
   "metadata": {},
   "outputs": [],
   "source": [
    "import os\n",
    "from glob import glob\n",
    "\n",
    "img_dir = \"monuseg-2018/download/images/\"\n",
    "img_filenames = sorted(glob(os.path.join(img_dir, \"*.tif\")))\n",
    "\n",
    "print(f\"Found:\")\n",
    "for img_filename in img_filenames:\n",
    "    print(f\"{img_filename}\")"
   ]
  },
  {
   "cell_type": "markdown",
   "id": "5b67b154",
   "metadata": {
    "cell_marker": "\"\"\""
   },
   "source": [
    "<div class=\"alert alert-info\">\n",
    "\n",
    "### Task 1.7\n",
    "Load the set of masks, by correctly specifying the value of the variables `mask_dir` and `mask_filenames`"
   ]
  },
  {
   "cell_type": "code",
   "execution_count": null,
   "id": "7dbc0dfd",
   "metadata": {
    "tags": [
     "task"
    ]
   },
   "outputs": [],
   "source": [
    "##########################\n",
    "######## To Do ###########\n",
    "##########################\n",
    "\n",
    "mask_dir = ...  # TODO: fill value!!\n",
    "mask_filenames = ...  # TODO: fill value!!\n",
    "for mask_filename in mask_filenames:\n",
    "    print(f\"{mask_filename}\")"
   ]
  },
  {
   "cell_type": "code",
   "execution_count": null,
   "id": "730368aa",
   "metadata": {
    "tags": [
     "solution"
    ]
   },
   "outputs": [],
   "source": [
    "##########################\n",
    "####### Solution #########\n",
    "##########################\n",
    "\n",
    "mask_dir = \"monuseg-2018/download/masks/\"\n",
    "mask_filenames = sorted(glob(os.path.join(mask_dir, \"*.tif\")))\n",
    "for mask_filename in mask_filenames:\n",
    "    print(f\"{mask_filename}\")"
   ]
  },
  {
   "cell_type": "markdown",
   "id": "46c93ea5",
   "metadata": {},
   "source": [
    "Let's visualize some of the images and the corresponding mask, side by side. First let's provide a helper `visualize` function which takes two images as argument.\n"
   ]
  },
  {
   "cell_type": "code",
   "execution_count": null,
   "id": "790dfd48",
   "metadata": {},
   "outputs": [],
   "source": [
    "import matplotlib.pyplot as plt\n",
    "\n",
    "def visualize(im1, im2):\n",
    "    plt.figure(figsize=(10, 10))\n",
    "    plt.subplot(121)\n",
    "    plt.imshow(im1)\n",
    "    plt.subplot(122)\n",
    "    plt.imshow(im2)\n",
    "    plt.tight_layout()"
   ]
  },
  {
   "cell_type": "markdown",
   "id": "885dc7e1",
   "metadata": {},
   "source": [
    "Executing the cell below, would visualize a new random image and the corresponding segmentation mask, each time. This is because the variable `idx` gets a new value between $0$ and $14$ (there are $15$ images)."
   ]
  },
  {
   "cell_type": "code",
   "execution_count": null,
   "id": "32c099f4",
   "metadata": {},
   "outputs": [],
   "source": [
    "idx = np.random.randint(len(img_filenames))\n",
    "visualize(imread(img_filenames[idx]), imread(mask_filenames[idx]))"
   ]
  },
  {
   "cell_type": "markdown",
   "id": "da6c6995",
   "metadata": {
    "cell_marker": "\"\"\"",
    "lines_to_next_cell": 0
   },
   "source": [
    "<div class=\"alert alert-success\">\n",
    "\n",
    "## Checkpoint 1\n",
    "\n",
    "Great Job! 🎊 Please post in the chat when you reach this checkpoint.\n",
    "\n",
    "In the first chapter, we learned about:\n",
    "\n",
    "<li> image data types</li>\n",
    "<li> reshaping images </li>\n",
    "<li> normalizing images </li>\n",
    "<li> Using <code>glob</code> to load a set of images\n",
    "\n",
    "These are important concepts to understand as they form the basis of most image processing pipelines because they are the basic data handling operations.\n",
    "\n",
    "<hr>\n",
    "</div>"
   ]
  },
  {
   "cell_type": "markdown",
   "id": "7ca283b2",
   "metadata": {},
   "source": [
    "**Bonus Task for Chapter 1**: Can you think of alternate approaches to intensity normalization? Any benefits of following one over the other?"
   ]
  },
  {
   "cell_type": "markdown",
   "id": "3c4cb947",
   "metadata": {},
   "source": [
    "Another approach could be percentile normalization. This maps the min intensity to 0 and max intensity to 0. This is useful if there are"
   ]
  },
  {
   "cell_type": "markdown",
   "id": "068f1ea4",
   "metadata": {},
   "source": [
    "## Chapter 2\n",
    "### Cropping\n",
    "\n",
    "While training models, we usually feed in smaller crops extracted from the original images.\n",
    "To do so, we can rely on the powerful numpy [indexing](https://numpy.org/doc/stable/user/basics.indexing.html).\n",
    "\n",
    "For example, let's extract the top left corner from one of our images.\n",
    "\n",
    "In the cell below, the original image is visualized on the left and the cropped image is seen on the right."
   ]
  },
  {
   "cell_type": "code",
   "execution_count": null,
   "id": "83cb0be6",
   "metadata": {},
   "outputs": [],
   "source": [
    "idx = np.random.randint(len(img_filenames))\n",
    "img = imread(img_filenames[idx])\n",
    "cropped_img = img[0:512, 0:512, :]\n",
    "visualize(img, cropped_img)"
   ]
  },
  {
   "cell_type": "markdown",
   "id": "558f6c3e",
   "metadata": {
    "cell_marker": "\"\"\""
   },
   "source": [
    "<div class=\"alert alert-info\">\n",
    "\n",
    "### Task 2.1\n",
    "Visualize the bottom left portion of any  image"
   ]
  },
  {
   "cell_type": "code",
   "execution_count": null,
   "id": "b0128b14",
   "metadata": {
    "tags": [
     "task"
    ]
   },
   "outputs": [],
   "source": [
    "##########################\n",
    "######## To Do ###########\n",
    "##########################\n",
    "\n",
    "idx = np.random.randint(len(img_filenames))\n",
    "img = imread(img_filenames[idx])\n",
    "cropped_img = ...  # TODO : fill correct value!!\n",
    "visualize(img, cropped_img)"
   ]
  },
  {
   "cell_type": "code",
   "execution_count": null,
   "id": "61163707",
   "metadata": {
    "tags": [
     "solution"
    ]
   },
   "outputs": [],
   "source": [
    "##########################\n",
    "####### Solution #########\n",
    "##########################\n",
    "\n",
    "idx = np.random.randint(len(img_filenames))\n",
    "img = imread(img_filenames[idx])\n",
    "cropped_img = img[512:, 0:512, :]\n",
    "visualize(img, cropped_img)"
   ]
  },
  {
   "cell_type": "markdown",
   "id": "e0b95177",
   "metadata": {},
   "source": [
    "### Downsampling\n",
    "\n",
    "For large images, sometimes we require that they are downsampled to fit in memory.\n",
    "\n",
    "Say if one wants to have every fourth pixel from the original image, one specifies `factor` = $4$, and one can run the following cell:"
   ]
  },
  {
   "cell_type": "code",
   "execution_count": null,
   "id": "883e1858",
   "metadata": {
    "lines_to_next_cell": 2
   },
   "outputs": [],
   "source": [
    "# downsampling\n",
    "idx = np.random.randint(len(img_filenames))\n",
    "img = imread(img_filenames[idx])\n",
    "\n",
    "factor = 4\n",
    "downsampled_img = img[::factor, ::factor]\n",
    "print(f\"Original image shape: {img.shape}\")\n",
    "print(f\"Downsampled image shape: {downsampled_img.shape}\")\n",
    "\n",
    "# Let's visualize the original image and the downsampled image side by side\n",
    "visualize(img, downsampled_img)"
   ]
  },
  {
   "cell_type": "markdown",
   "id": "a6e190cf",
   "metadata": {
    "cell_marker": "\"\"\""
   },
   "source": [
    "<div class=\"alert alert-info\">\n",
    "\n",
    "### Task 2.2\n",
    "Can you see that the image on the right lacks some detail on account of being downsampled.\n",
    "\n",
    "Try other values of the downsampling factors `factor`."
   ]
  },
  {
   "cell_type": "code",
   "execution_count": null,
   "id": "651e5ae5",
   "metadata": {
    "tags": [
     "task"
    ]
   },
   "outputs": [],
   "source": [
    "##########################\n",
    "######## To Do ###########\n",
    "##########################\n",
    "\n",
    "factor = ...\n",
    "downsampled_img = img[::factor, ::factor]\n",
    "visualize(img, downsampled_img)"
   ]
  },
  {
   "cell_type": "code",
   "execution_count": null,
   "id": "b0a225ea",
   "metadata": {
    "tags": [
     "solution"
    ]
   },
   "outputs": [],
   "source": [
    "##########################\n",
    "####### Solution #########\n",
    "##########################\n",
    "\n",
    "factor = 8\n",
    "downsampled_img = img[::factor, ::factor]\n",
    "visualize(img, downsampled_img)"
   ]
  },
  {
   "cell_type": "markdown",
   "id": "5d69a1db",
   "metadata": {},
   "source": [
    "### Flipping\n",
    "\n",
    "Sometimes, one wishes to create new images from original data by performing transformations.\n",
    "\n",
    "One way to create a new image is by flipping an image about a given axis, which creates a mirror image!\n",
    "\n",
    "Run the following cell to visualize a vertically flipped image."
   ]
  },
  {
   "cell_type": "code",
   "execution_count": null,
   "id": "953cb68b",
   "metadata": {},
   "outputs": [],
   "source": [
    "idx = np.random.randint(len(img_filenames))\n",
    "img = imread(img_filenames[idx])\n",
    "# Here the image dimensions are (height, width, num_channels), ::-1 means reverse the order of the elements in the array on the height axis\n",
    "vflipped_img = img[::-1, :, :]\n",
    "visualize(img, vflipped_img)"
   ]
  },
  {
   "cell_type": "markdown",
   "id": "8af94158",
   "metadata": {
    "cell_marker": "\"\"\""
   },
   "source": [
    "<div class=\"alert alert-info\">\n",
    "\n",
    "### Task 2.3\n",
    "Create a horizontally flipped image and visualize!"
   ]
  },
  {
   "cell_type": "code",
   "execution_count": null,
   "id": "6a83fee1",
   "metadata": {
    "tags": [
     "task"
    ]
   },
   "outputs": [],
   "source": [
    "##########################\n",
    "######## To Do ###########\n",
    "##########################\n",
    "\n",
    "idx = np.random.randint(len(img_filenames))\n",
    "img = imread(img_filenames[idx])\n",
    "hflipped_img = ...  ## TODO: fill correct value\n",
    "visualize(img, hflipped_img)"
   ]
  },
  {
   "cell_type": "code",
   "execution_count": null,
   "id": "b6c72465",
   "metadata": {
    "tags": [
     "solution"
    ]
   },
   "outputs": [],
   "source": [
    "##########################\n",
    "####### Solution #########\n",
    "##########################\n",
    "\n",
    "idx = np.random.randint(len(img_filenames))\n",
    "img = imread(img_filenames[idx])\n",
    "hflipped_img = img[:, ::-1, :]  \n",
    "visualize(img, hflipped_img)"
   ]
  },
  {
   "cell_type": "markdown",
   "id": "0f458731",
   "metadata": {
    "cell_marker": "\"\"\""
   },
   "source": [
    "<div class=\"alert alert-success\">\n",
    "\n",
    "<hr>\n",
    "Fantastic Work! 🙏 Please post on the course chat when you reach this checkpoint.\n",
    "\n",
    "## Checkpoint 2\n",
    "\n",
    "In the second chapter, we learnt about:\n",
    "\n",
    "<li> cropping images </li>\n",
    "<li> downsampling images </li>\n",
    "<li> flipping images </li>\n",
    "\n",
    "These operations are important as they help in creating new images from the original data.\n",
    "These are also ways of basic data augmentation which is useful for training models.\n",
    "\n",
    "<hr>\n",
    "</div>"
   ]
  },
  {
   "cell_type": "markdown",
   "id": "19d78af2",
   "metadata": {},
   "source": [
    "**Bonus Task for Chapter 2**\n",
    "\n",
    "Can you think of reasons why we need to crop images?\n",
    "Can't we feed in all the images at the original size to the model?"
   ]
  },
  {
   "cell_type": "markdown",
   "id": "1f3a4839",
   "metadata": {},
   "source": [
    "1. To increase the amount of data i.e, have more training data and corresponding masks\n",
    "2. Also because often the training images come with different sizes and this creates an issue while `batching` the images"
   ]
  },
  {
   "cell_type": "markdown",
   "id": "ef10bbaf",
   "metadata": {},
   "source": [
    "## Chapter 3\n",
    "### Batching\n",
    "\n",
    "In ML/DL, we often have to deal with very large datasets. It soon becomes inefficient to process all the data at once, so it's useful to split the data into \"mini-batches\" that we can process individually.\n",
    "\n",
    "So for purely reasons of computational cost, this is often useful.\n",
    "\n",
    "We will also see another reason for which batching can be useful - for instance when running gradient descent on non-convex landscapes.\n",
    "Here, computing the gradient on a subset of the data gives us an approximate/noisy gradient making it less likely for us to end up being stuck in local minima. This is what is referred to as \"stochastic gradient descent\".\n",
    "\n",
    "Let us make our first batch of images, containing $B$ number of images.\n",
    "The shape of the batch will thus get an additional \"batch dimension\" at the first dimension, i.e. (batch_size, num_channels, height, width)."
   ]
  },
  {
   "cell_type": "markdown",
   "id": "6137465c",
   "metadata": {
    "cell_marker": "\"\"\""
   },
   "source": [
    "<div class=\"alert alert-info\">\n",
    "\n",
    "### Task 3.1\n",
    "\n",
    "Make a batch of size $B=4$ by sampling 4 images randomly from the available images (this will be a 4D np array).\n",
    "<br> Here, you would also have to ensure that the second axis corresponds to the channel (use `np.transpose`)"
   ]
  },
  {
   "cell_type": "code",
   "execution_count": null,
   "id": "847e8a4d",
   "metadata": {
    "tags": [
     "task"
    ]
   },
   "outputs": [],
   "source": [
    "##########################\n",
    "######## To Do ###########\n",
    "##########################\n",
    "\n",
    "# `batch` should be a np array with shape (4, 3, 1000, 1000).\n",
    "\n",
    "batch = ...  # TODO\n",
    "print(f\"Batch of images has shape {batch.shape}\")"
   ]
  },
  {
   "cell_type": "code",
   "execution_count": null,
   "id": "49ee0e32",
   "metadata": {
    "lines_to_next_cell": 2,
    "tags": [
     "solution"
    ]
   },
   "outputs": [],
   "source": [
    "##########################\n",
    "####### Solution #########\n",
    "##########################\n",
    "\n",
    "indices = np.random.choice(len(img_filenames), 4, replace=False)\n",
    "imgs = []\n",
    "for index in indices:\n",
    "    imgs.append(np.transpose(imread(img_filenames[index]), (2, 0, 1)))\n",
    "batch = np.asarray(imgs)\n",
    "print(f\"Batch of images has shape {batch.shape}\")"
   ]
  },
  {
   "cell_type": "markdown",
   "id": "fee6c158",
   "metadata": {},
   "source": [
    "### Convolutions\n",
    "\n",
    "Convolutions are the elementary operations used in Convolutional Neural Networks (CNNs). <br> The images (and later, the feature maps) are convolved with multiple filters whose weights are learned. <br>\n",
    "\n",
    "![](https://upload.wikimedia.org/wikipedia/commons/1/19/2D_Convolution_Animation.gif)\n",
    "\n",
    "\n",
    "Please read this [section](https://en.wikipedia.org/wiki/Kernel_(image_processing)#Convolution) on convolutions to learn how to implement a your own convolution function!"
   ]
  },
  {
   "cell_type": "markdown",
   "id": "d5c6418f",
   "metadata": {
    "cell_marker": "\"\"\""
   },
   "source": [
    "<div class=\"alert alert-info\">\n",
    "\n",
    "### Task 3.2\n",
    "Implement a function that performs a convolution of an image with a filter.\n",
    "<br> Assume that your image is square and that your filter is square and has an odd width. You can set arbitrary values in your filter for now.\n",
    "\n",
    "<br> Note that your output image will be smaller."
   ]
  },
  {
   "cell_type": "code",
   "execution_count": null,
   "id": "f172dfd1",
   "metadata": {
    "lines_to_next_cell": 2,
    "tags": [
     "task"
    ]
   },
   "outputs": [],
   "source": [
    "##########################\n",
    "######## To Do ###########\n",
    "##########################\n",
    "\n",
    "\n",
    "def conv2d(img, kernel):\n",
    "    assert kernel.shape[0] == kernel.shape[1]\n",
    "    assert kernel.shape[0] % 2 != 0\n",
    "\n",
    "    h, w = img.shape[0], img.shape[1]  # Starting size of image\n",
    "    d_k = kernel.shape[0]  # Size of kernel\n",
    "\n",
    "    h_new = h - d_k + 1  # Calculate the new height of the array\n",
    "    w_new = w - d_k + 1  # Calculate the new width of the array\n",
    "    output = np.zeros((h_new, w_new))\n",
    "\n",
    "    # TODO: add your code for filling output with the convolved image\n",
    "\n",
    "    return output"
   ]
  },
  {
   "cell_type": "code",
   "execution_count": null,
   "id": "26e3a2fe",
   "metadata": {
    "tags": [
     "solution"
    ]
   },
   "outputs": [],
   "source": [
    "##########################\n",
    "####### Solution #########\n",
    "##########################\n",
    "\n",
    "\n",
    "def conv2d(img, kernel):\n",
    "    assert kernel.shape[0] == kernel.shape[1]\n",
    "    assert kernel.shape[0] % 2 != 0\n",
    "\n",
    "    h, w = img.shape[0], img.shape[1]  # Starting size of image\n",
    "    d_k = kernel.shape[0]  # Size of kernel\n",
    "\n",
    "    h_new = h - d_k + 1\n",
    "    w_new = w - d_k + 1\n",
    "    output = np.zeros((h_new, w_new))\n",
    "\n",
    "    for i in range(output.shape[0]):\n",
    "        for j in range(output.shape[1]):\n",
    "            output[i, j] = np.sum(img[i : i + d_k, j : j + d_k] * kernel)\n",
    "    return output"
   ]
  },
  {
   "cell_type": "code",
   "execution_count": null,
   "id": "23055162",
   "metadata": {},
   "outputs": [],
   "source": [
    "# Run this cell to check your function\n",
    "\n",
    "identity = np.array([[0, 0, 0], [0, 1, 0], [0, 0, 0]])\n",
    "new_im = conv2d(img[..., 0], identity)\n",
    "# Lets print the original image and the convolved image\n",
    "print(img[..., 0].shape)\n",
    "print(new_im.shape)\n",
    "\n",
    "#Lets visualize the original image and the convolved image and the filter\n",
    "plt.figure(figsize=(10, 10))\n",
    "plt.subplot(131)\n",
    "plt.imshow(img[..., 0])\n",
    "plt.title(\"Original Image\")\n",
    "plt.subplot(132)\n",
    "plt.imshow(identity)\n",
    "plt.title(\"Kernel\")\n",
    "plt.subplot(133)\n",
    "plt.imshow(new_im)\n",
    "plt.title(\"Convolved Image\")\n",
    "plt.tight_layout()"
   ]
  },
  {
   "cell_type": "markdown",
   "id": "19bcb2d5",
   "metadata": {},
   "source": [
    "**Bonus: Try differnt (arbitary?) filters and see how the output changes!**"
   ]
  },
  {
   "cell_type": "markdown",
   "id": "8e658569",
   "metadata": {
    "cell_marker": "\"\"\"",
    "lines_to_next_cell": 0
   },
   "source": [
    "<div class=\"alert alert-info\">\n",
    "\n",
    "### Task 3.3\n",
    "\n",
    "We noticed that the output image is smaller than the input image! <br>\n",
    "\n",
    "Can you come up with an analytical relationship regarding how much smaller the output image is *vis-à-vis* the input image? <br>\n",
    "Can you think of any strategy which ensures that the output image is the same size as the input image?"
   ]
  },
  {
   "cell_type": "code",
   "execution_count": null,
   "id": "cf2c60b7",
   "metadata": {
    "tags": [
     "task"
    ]
   },
   "outputs": [],
   "source": [
    "##########################\n",
    "######## To Do ###########\n",
    "##########################"
   ]
  },
  {
   "cell_type": "markdown",
   "id": "e3a8c1cc",
   "metadata": {
    "tags": [
     "solution"
    ]
   },
   "source": [
    "\n",
    "```\n",
    "##########################\n",
    "####### Solution #########\n",
    "##########################\n",
    "```\n",
    "\n",
    "- Given an input image of size $H \\times W$, a filter of size $K_h \\times K_w$ , and strides $S_h$ and $S_w$\n",
    "the output size (height $H_{out}$ and width $W_{out}$) can be calculated using the following formulas (Note that $\\lfloor.\\rfloor$ is the floor operator):\n",
    "\n",
    "$$\n",
    "\\begin{equation*}\n",
    "    H_{out} = \\left\\lfloor \\frac{H - K_h}{S_h} \\right\\rfloor + 1\n",
    "\\end{equation*}\n",
    "$$\n",
    "$$\n",
    "\\newline\n",
    "\\begin{equation*}\n",
    "    W_{out} = \\left\\lfloor \\frac{W - K_w}{S_w} \\right\\rfloor + 1\n",
    "\\end{equation*}\n",
    "$$\n",
    "- We can add padding to the input image to ensure that the output image is the same size as the input image."
   ]
  },
  {
   "cell_type": "markdown",
   "id": "78f860bd",
   "metadata": {},
   "source": [
    "### Filters\n",
    "\n",
    "Let us try to understand what could the values of the filter be. <br>\n"
   ]
  },
  {
   "cell_type": "markdown",
   "id": "a028b1ee",
   "metadata": {
    "cell_marker": "\"\"\""
   },
   "source": [
    "<div class=\"alert alert-info\">\n",
    "\n",
    "The following is known as the Sobel filter:\n",
    "\n",
    "$$\n",
    "\\begin{bmatrix}\n",
    "    1 & 2 & 1 \\\\\n",
    "    0 & 0 & 0 \\\\\n",
    "    -1 & -2 & -1\n",
    "\\end{bmatrix}\n",
    "$$\n",
    "\n",
    "### Task 3.4\n",
    "Apply the Sobel filter and describe what it does"
   ]
  },
  {
   "cell_type": "code",
   "execution_count": null,
   "id": "bd90c6f3",
   "metadata": {},
   "outputs": [],
   "source": [
    "flter = np.array([[1, 2, 1], [0, 0, 0], [-1, -2, -1]])\n",
    "output_img = conv2d(img[..., 0], flter)\n",
    "visualize(img[..., 0], output_img)"
   ]
  },
  {
   "cell_type": "markdown",
   "id": "f1c395db",
   "metadata": {
    "cell_marker": "\"\"\""
   },
   "source": [
    "<div class=\"alert alert-info\">\n",
    "\n",
    "### Task 3.5\n",
    "\n",
    "What feature in this image do you think this filter is detecting?"
   ]
  },
  {
   "cell_type": "code",
   "execution_count": null,
   "id": "6b7cc68a",
   "metadata": {
    "lines_to_next_cell": 2,
    "tags": [
     "task"
    ]
   },
   "outputs": [],
   "source": [
    "##########################\n",
    "######## To Do ###########\n",
    "##########################"
   ]
  },
  {
   "cell_type": "markdown",
   "id": "afd540e6",
   "metadata": {
    "tags": [
     "solution"
    ]
   },
   "source": [
    "```\n",
    "##########################\n",
    "####### Solution #########\n",
    "##########################\n",
    "```\n",
    "\n",
    "The Sobel filter is detecting the edges in the image."
   ]
  },
  {
   "cell_type": "markdown",
   "id": "d5f42e31",
   "metadata": {
    "cell_marker": "\"\"\""
   },
   "source": [
    "<div class=\"alert alert-success\">\n",
    "\n",
    "<hr>\n",
    "Wow! 🤟 Post on the course chat when you reach this checkpoint!\n",
    "\n",
    "## Checkpoint 3\n",
    "\n",
    "In the third chapter, we learnt about:\n",
    "\n",
    "<li> Batching (here we understood the importance of batching in training models) </li>\n",
    "<li> Convolutions (The primary operation in Convolutional Neural Networks) </li>\n",
    "<li> Filters (The weights that are learned in Convolutional Neural Networks) </li>\n",
    "\n",
    "<hr>"
   ]
  },
  {
   "cell_type": "markdown",
   "id": "d5332067",
   "metadata": {},
   "source": [
    "## Chapter 4: (Optional) Data augmentation\n",
    "\n",
    "Having collected your hard earned data you want to make the most of it. In ML/DL, we're often limited by the size of our the training set. How could we artificially inflate our data to provide more input to our model and help it generalize better?\n",
    "\n",
    "One trick is to make simple transformations to our data such as rotating it or adding noise - this process is generally called \"data augmentation\" (DA) and is widely used in ML.\n",
    "\n",
    "`albumentations` is a Python library that provides a very extensive set of image augmentations,\n",
    "and that seamlessly handles complex annotations like segmentation maps, bounding boxes or keypoints. Let us import `albumentations` and its dependency `cv2` in the cell below."
   ]
  },
  {
   "cell_type": "code",
   "execution_count": null,
   "id": "be74ff80",
   "metadata": {},
   "outputs": [],
   "source": [
    "import albumentations as A\n",
    "import cv2"
   ]
  },
  {
   "cell_type": "markdown",
   "id": "8f95ec2a",
   "metadata": {},
   "source": [
    "### Applying one augmentation\n",
    "\n",
    "To use an augmentation, we can instantiate a transformation with a set of hyperparameters.\n",
    "With a rotation, for example, we can specify the range of the rotation angle to be `(-45, 45)` degrees, always applied, and have a constant border around the rotation.\n",
    "\n",
    "In `albumentations`, the channel-axis is always expected to be the last axis and may be skipped for grayscale images. It is\n",
    "also recommended to work with the `uint8` dtype."
   ]
  },
  {
   "cell_type": "code",
   "execution_count": null,
   "id": "f66814ee",
   "metadata": {},
   "outputs": [],
   "source": [
    "rotate = A.Rotate(limit=45, always_apply=True, border_mode=cv2.BORDER_CONSTANT)\n",
    "idx = np.random.randint(len(img_filenames))\n",
    "img = imread(img_filenames[idx])\n",
    "img_aug = rotate(image=img)\n",
    "visualize(img, img_aug[\"image\"])"
   ]
  },
  {
   "cell_type": "markdown",
   "id": "01477327",
   "metadata": {},
   "source": [
    "### Applying multiple augmentations\n",
    "We can compose multiple augmentations. Run this cell multiple times to see how the output changes!"
   ]
  },
  {
   "cell_type": "code",
   "execution_count": null,
   "id": "16ca3873",
   "metadata": {},
   "outputs": [],
   "source": [
    "augment = A.Compose(\n",
    "    [\n",
    "        A.RandomCrop(width=256, height=256),\n",
    "        A.HorizontalFlip(p=0.5),\n",
    "        A.RandomBrightnessContrast(p=0.2),\n",
    "        rotate,\n",
    "    ]\n",
    ")\n",
    "img_aug = augment(image=img)\n",
    "visualize(img, img_aug[\"image\"])"
   ]
  },
  {
   "cell_type": "markdown",
   "id": "076745a6",
   "metadata": {
    "cell_marker": "\"\"\""
   },
   "source": [
    "<div class=\"alert alert-info\">\n",
    "\n",
    "### Task 4.1\n",
    "Familiarize yourself with the different augmentations available through `albumentations`.\n",
    "\n",
    "Refer to the [examples](https://albumentations.ai/docs/examples/),  [tutorial](https://albumentations.ai/docs/getting_started/mask_augmentation/) and the [documentation](https://albumentations.ai/docs/).\n",
    "\n",
    "Identify and apply augmentations that you think are interesting."
   ]
  },
  {
   "cell_type": "code",
   "execution_count": null,
   "id": "0d0bdefe",
   "metadata": {
    "tags": [
     "task"
    ]
   },
   "outputs": [],
   "source": [
    "##########################\n",
    "######## To Do ###########\n",
    "##########################"
   ]
  },
  {
   "cell_type": "markdown",
   "id": "6eab14e3",
   "metadata": {
    "cell_marker": "\"\"\""
   },
   "source": [
    "<div class=\"alert alert-info\">\n",
    "\n",
    "### Task 4.2\n",
    "While augmenting images and segmentation masks, should they be augmented similarly or differently? Discuss."
   ]
  },
  {
   "cell_type": "code",
   "execution_count": null,
   "id": "86af9a8e",
   "metadata": {
    "tags": [
     "task"
    ]
   },
   "outputs": [],
   "source": [
    "##########################\n",
    "######## To Do ###########\n",
    "##########################"
   ]
  },
  {
   "cell_type": "markdown",
   "id": "997aa702",
   "metadata": {
    "tags": [
     "solution"
    ]
   },
   "source": [
    "```\n",
    "##########################\n",
    "####### Solution #########\n",
    "##########################\n",
    "```\n",
    "\n",
    "The same geometric transform should be applied to both the images and the corresponding segmentation masks."
   ]
  },
  {
   "cell_type": "markdown",
   "id": "67028e20",
   "metadata": {
    "cell_marker": "\"\"\""
   },
   "source": [
    "<div class=\"alert alert-success\">\n",
    "\n",
    "<hr>\n",
    "Hurrah! 😃\n",
    "\n",
    "## Checkpoint 4\n",
    "\n",
    "In the fourth chapter, we learnt about:\n",
    "\n",
    "<li> Using <code>albumentations</code> for augmenting images </li>\n",
    "<li> Putting together multiple augmentations using <code>A.Compose</code></li>\n",
    "<hr>"
   ]
  }
 ],
 "metadata": {
  "jupytext": {
   "cell_metadata_filter": "all",
   "main_language": "python"
  }
 },
 "nbformat": 4,
 "nbformat_minor": 5
}
